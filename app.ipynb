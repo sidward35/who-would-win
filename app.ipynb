{
 "cells": [
  {
   "cell_type": "code",
   "execution_count": 1,
   "metadata": {},
   "outputs": [],
   "source": [
    "import requests\n",
    "import pandas as pd\n",
    "from random import randrange\n",
    "import IPython.display as Disp\n",
    "from IPython.core.display import HTML"
   ]
  },
  {
   "cell_type": "code",
   "execution_count": 2,
   "metadata": {},
   "outputs": [],
   "source": [
    "ids = [1, 2, 3, 4, 5, 6, 7, 8, 10, 11, 12, 13, 14, 15, 17, 18, 20, 23, 24, 25, 26, 28, 29, 30, 31, 32, 34, 35, 36, 37, 38, 39, 40, 41, 42, 43, 44, 45, 48, 49, 52, 53, 56, 57, 58, 60, 61, 62, 63, 66, 68, 69, 70, 71, 72, 73, 75, 76, 78, 79, 80, 81, 82, 83, 84, 87, 88, 92, 93, 95, 96, 97, 98, 99, 100, 102, 103, 104, 105, 106, 107, 109, 110, 111, 112, 114, 115, 118, 119, 120, 121, 126, 127, 130, 135, 136, 137, 139, 140, 141, 142, 144, 145, 146, 147, 148, 149, 150, 151, 152, 154, 156, 157, 158, 160, 162, 165, 167, 169, 170, 171, 172, 174, 176, 177, 178, 180, 181, 185, 186, 188, 191, 194, 195, 196, 198, 200, 201, 202, 203, 204, 206, 207, 208, 209, 210, 211, 212, 213, 214, 215, 216, 217, 218, 219, 220, 221, 222, 224, 225, 226, 227, 228, 230, 231, 232, 233, 234, 235, 236, 237, 238, 239, 240, 241, 242, 245, 246, 247, 248, 249, 251, 252, 253, 254, 256, 257, 258, 259, 260, 261, 263, 265, 266, 267, 268, 269, 270, 271, 273, 274, 275, 277, 278, 280, 284, 285, 286, 287, 288, 289, 294, 296, 297, 298, 299, 300, 303, 305, 306, 307, 308, 309, 310, 311, 312, 313, 314, 315, 320, 321, 322, 323, 325, 327, 330, 332, 333, 334, 335, 336, 337, 338, 339, 340, 341, 342, 343, 344, 345, 346, 347, 348, 350, 351, 352, 353, 354, 355, 356, 357, 358, 360, 361, 364, 365, 367, 369, 370, 371, 372, 373, 374, 375, 376, 379, 380, 381, 382, 383, 384, 386, 387, 388, 389, 390, 391, 392, 393, 394, 395, 396, 397, 398, 400, 401, 402, 403, 404, 405, 406, 407, 408, 409, 410, 412, 413, 414, 415, 416, 418, 419, 421, 422, 423, 424, 425, 426, 427, 428, 429, 430, 431, 432, 433, 435, 436, 437, 438, 439, 440, 441, 442, 443, 444, 445, 448, 449, 450, 451, 452, 454, 455, 456, 457, 458, 459, 460, 461, 462, 463, 467, 469, 470, 471, 472, 474, 475, 476, 477, 478, 479, 480, 481, 483, 484, 485, 487, 488, 489, 490, 491, 492, 493, 495, 496, 497, 498, 499, 502, 503, 504, 505, 506, 508, 509, 510, 514, 516, 517, 518, 520, 521, 522, 523, 524, 526, 527, 528, 529, 530, 531, 532, 533, 535, 536, 537, 538, 539, 540, 541, 542, 543, 545, 546, 547, 548, 549, 550, 551, 555, 556, 557, 558, 559, 561, 562, 563, 564, 565, 566, 567, 568, 569, 570, 571, 572, 573, 574, 575, 576, 577, 578, 579, 580, 581, 582, 583, 584, 585, 586, 587, 588, 589, 590, 591, 592, 594, 595, 598, 599, 600, 601, 602, 604, 605, 607, 608, 609, 610, 611, 612, 613, 615, 618, 619, 620, 623, 625, 627, 628, 630, 631, 632, 633, 634, 635, 636, 637, 638, 639, 640, 641, 642, 643, 644, 645, 646, 647, 648, 649, 650, 651, 652, 653, 654, 655, 656, 657, 658, 659, 660, 661, 664, 665, 666, 667, 668, 670, 671, 672, 676, 677, 678, 679, 680, 681, 685, 686, 687, 688, 689, 690, 692, 693, 696, 697, 699, 701, 702, 703, 705, 706, 707, 708, 709, 711, 713, 714, 716, 717, 718, 719, 720, 722, 723, 724, 726, 727, 728, 729, 730, 731]\n",
    "\n",
    "superhero1 = requests.get('https://akabab.github.io/superhero-api/api/id/'+str(ids[randrange(len(ids))])+'.json')\n",
    "superhero2 = requests.get('https://akabab.github.io/superhero-api/api/id/'+str(ids[randrange(len(ids))])+'.json')\n",
    "sh1 = superhero1.json()\n",
    "sh2 = superhero2.json()\n",
    "\n",
    "df = pd.DataFrame(columns=[' ', 'Image', 'Name', 'Publisher', 'First Appearance', 'Place of Birth', 'Occupation', 'Alignment', 'Height', 'Weight', 'Intelligence', 'Strength', 'Speed', 'Durability', 'Power', 'Combat', 'Result'])"
   ]
  },
  {
   "cell_type": "code",
   "execution_count": 3,
   "metadata": {
    "scrolled": false
   },
   "outputs": [],
   "source": [
    "url1 = sh1['images']['md']\n",
    "url2 = sh2['images']['md']\n",
    "images = [url1, url2]\n",
    "df['Image'] = images"
   ]
  },
  {
   "cell_type": "code",
   "execution_count": 4,
   "metadata": {},
   "outputs": [],
   "source": [
    "name1 = sh1['name']\n",
    "name2 = sh2['name']\n",
    "\n",
    "if(sh1['biography']['fullName'] != \"\"):\n",
    "    name1 = name1 + \" (\" + sh1['biography']['fullName']+\")\"\n",
    "if(sh2['biography']['fullName'] != \"\"):\n",
    "    name2 = name2 + \" (\" + sh2['biography']['fullName']+\")\"\n",
    "\n",
    "names = [name1, name2]\n",
    "df['Name'] = names"
   ]
  },
  {
   "cell_type": "code",
   "execution_count": 5,
   "metadata": {},
   "outputs": [],
   "source": [
    "publishers = [sh1['biography']['publisher'], sh2['biography']['publisher']]\n",
    "df['Publisher'] = publishers\n",
    "\n",
    "firstAppearances = [sh1['biography']['firstAppearance'], sh2['biography']['firstAppearance']]\n",
    "df['First Appearance'] = firstAppearances\n",
    "\n",
    "placesOfBirth = [sh1['biography']['placeOfBirth'], sh2['biography']['placeOfBirth']]\n",
    "df['Place of Birth'] = placesOfBirth\n",
    "\n",
    "occupations = [sh1['work']['occupation'], sh2['work']['occupation']]\n",
    "df['Occupation'] = occupations\n",
    "\n",
    "alignments = [sh1['biography']['alignment'], sh2['biography']['alignment']]\n",
    "df['Alignment'] = alignments"
   ]
  },
  {
   "cell_type": "code",
   "execution_count": 6,
   "metadata": {},
   "outputs": [],
   "source": [
    "heights = [sh1['appearance']['height'][0], sh2['appearance']['height'][0]]\n",
    "df['Height'] = heights\n",
    "\n",
    "weights = [sh1['appearance']['weight'][0], sh2['appearance']['weight'][0]]\n",
    "df['Weight'] = weights"
   ]
  },
  {
   "cell_type": "code",
   "execution_count": 7,
   "metadata": {},
   "outputs": [],
   "source": [
    "intelligence = [sh1['powerstats']['intelligence'], sh2['powerstats']['intelligence']]\n",
    "df['Intelligence'] = intelligence\n",
    "\n",
    "strengths = [sh1['powerstats']['strength'], sh2['powerstats']['strength']]\n",
    "df['Strength'] = strengths\n",
    "\n",
    "speeds = [sh1['powerstats']['speed'], sh2['powerstats']['speed']]\n",
    "df['Speed'] = speeds\n",
    "\n",
    "durabilities = [sh1['powerstats']['durability'], sh2['powerstats']['durability']]\n",
    "df['Durability'] = durabilities\n",
    "\n",
    "powers = [sh1['powerstats']['power'], sh2['powerstats']['power']]\n",
    "df['Power'] = powers\n",
    "\n",
    "combat = [sh1['powerstats']['combat'], sh2['powerstats']['combat']]\n",
    "df['Combat'] = combat"
   ]
  },
  {
   "cell_type": "code",
   "execution_count": 8,
   "metadata": {},
   "outputs": [],
   "source": [
    "sh1_avg = (intelligence[0] + strengths[0] + speeds[0] + durabilities[0] + powers[0] + combat[0])/6\n",
    "sh2_avg = (intelligence[1] + strengths[1] + speeds[1] + durabilities[1] + powers[1] + combat[1])/6\n",
    "\n",
    "result = ['','']\n",
    "\n",
    "if(sh1_avg>sh2_avg):\n",
    "    result[0] = 'WIN'\n",
    "else:\n",
    "    result[1] = 'WIN'\n",
    "df['Result'] = result"
   ]
  },
  {
   "cell_type": "code",
   "execution_count": 9,
   "metadata": {},
   "outputs": [],
   "source": [
    "df[' '] = df['Image']\\\n",
    "    .str.replace(\n",
    "        '(.*)', \n",
    "        '<img src=\"\\\\1\" style=\"max-height:124px;\"></img>'\n",
    "    )\n",
    "with pd.option_context('display.max_colwidth', 10000):\n",
    "    HTML(df.to_html(escape=False))"
   ]
  },
  {
   "cell_type": "code",
   "execution_count": 10,
   "metadata": {},
   "outputs": [
    {
     "name": "stderr",
     "output_type": "stream",
     "text": [
      "<ipython-input-10-6ba2309909ef>:9: FutureWarning: Passing a negative integer is deprecated in version 1.0 and will not be supported in future version. Instead, use None to not limit the column width.\n",
      "  pd.set_option('display.max_colwidth', -1)\n"
     ]
    },
    {
     "data": {
      "text/html": [
       "<table border=\"1\" class=\"dataframe\">\n",
       "  <thead>\n",
       "    <tr style=\"text-align: right;\">\n",
       "      <th></th>\n",
       "      <th></th>\n",
       "      <th></th>\n",
       "    </tr>\n",
       "  </thead>\n",
       "  <tbody>\n",
       "    <tr>\n",
       "      <th></th>\n",
       "      <td><img src=\"https://cdn.jsdelivr.net/gh/akabab/superhero-api@0.3.0/api/images/md/222-doctor-doom.jpg\" style=\"max-height:124px;\"></img><img src=\"\" style=\"max-height:124px;\"></img></td>\n",
       "      <td><img src=\"https://cdn.jsdelivr.net/gh/akabab/superhero-api@0.3.0/api/images/md/611-space-ghost.jpg\" style=\"max-height:124px;\"></img><img src=\"\" style=\"max-height:124px;\"></img></td>\n",
       "    </tr>\n",
       "    <tr>\n",
       "      <th>Name</th>\n",
       "      <td>Doctor Doom (Victor von Doom)</td>\n",
       "      <td>Space Ghost (Thaddeus Bach)</td>\n",
       "    </tr>\n",
       "    <tr>\n",
       "      <th>Publisher</th>\n",
       "      <td>Marvel Comics</td>\n",
       "      <td>DC Comics</td>\n",
       "    </tr>\n",
       "    <tr>\n",
       "      <th>First Appearance</th>\n",
       "      <td>Fantastic Four #5 (July 1962)</td>\n",
       "      <td>Space Ghost (1966)</td>\n",
       "    </tr>\n",
       "    <tr>\n",
       "      <th>Place of Birth</th>\n",
       "      <td>Haasenstadt, Latveria</td>\n",
       "      <td>-</td>\n",
       "    </tr>\n",
       "    <tr>\n",
       "      <th>Occupation</th>\n",
       "      <td>Monarch</td>\n",
       "      <td>-</td>\n",
       "    </tr>\n",
       "    <tr>\n",
       "      <th>Alignment</th>\n",
       "      <td>bad</td>\n",
       "      <td>good</td>\n",
       "    </tr>\n",
       "    <tr>\n",
       "      <th>Height</th>\n",
       "      <td>6'7</td>\n",
       "      <td>6'2</td>\n",
       "    </tr>\n",
       "    <tr>\n",
       "      <th>Weight</th>\n",
       "      <td>415 lb</td>\n",
       "      <td>250 lb</td>\n",
       "    </tr>\n",
       "    <tr>\n",
       "      <th>Intelligence</th>\n",
       "      <td>100</td>\n",
       "      <td>38</td>\n",
       "    </tr>\n",
       "    <tr>\n",
       "      <th>Strength</th>\n",
       "      <td>32</td>\n",
       "      <td>18</td>\n",
       "    </tr>\n",
       "    <tr>\n",
       "      <th>Speed</th>\n",
       "      <td>20</td>\n",
       "      <td>33</td>\n",
       "    </tr>\n",
       "    <tr>\n",
       "      <th>Durability</th>\n",
       "      <td>100</td>\n",
       "      <td>40</td>\n",
       "    </tr>\n",
       "    <tr>\n",
       "      <th>Power</th>\n",
       "      <td>100</td>\n",
       "      <td>95</td>\n",
       "    </tr>\n",
       "    <tr>\n",
       "      <th>Combat</th>\n",
       "      <td>84</td>\n",
       "      <td>80</td>\n",
       "    </tr>\n",
       "    <tr>\n",
       "      <th>Result</th>\n",
       "      <td>WIN</td>\n",
       "      <td></td>\n",
       "    </tr>\n",
       "  </tbody>\n",
       "</table>"
      ],
      "text/plain": [
       "<IPython.core.display.HTML object>"
      ]
     },
     "execution_count": 10,
     "metadata": {},
     "output_type": "execute_result"
    }
   ],
   "source": [
    "df = df.T\n",
    "\n",
    "df=df.drop(['Image'])\n",
    "df.columns = [''] * len(df.columns)\n",
    "\n",
    "def path_to_image_html(path):\n",
    "    return '<img src=\"'+ path + '\" height=\"2000\" >'\n",
    "\n",
    "pd.set_option('display.max_colwidth', -1)\n",
    "\n",
    "HTML(df.to_html(escape=False ,formatters=dict(Image=path_to_image_html)))"
   ]
  }
 ],
 "metadata": {
  "kernelspec": {
   "display_name": "Python 3",
   "language": "python",
   "name": "python3"
  },
  "language_info": {
   "codemirror_mode": {
    "name": "ipython",
    "version": 3
   },
   "file_extension": ".py",
   "mimetype": "text/x-python",
   "name": "python",
   "nbconvert_exporter": "python",
   "pygments_lexer": "ipython3",
   "version": "3.8.3"
  }
 },
 "nbformat": 4,
 "nbformat_minor": 4
}
